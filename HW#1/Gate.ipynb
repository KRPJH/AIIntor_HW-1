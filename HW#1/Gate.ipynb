{
 "cells": [
  {
   "cell_type": "code",
   "execution_count": 10,
   "id": "3081e7a0-c7df-4d19-81d1-d3ccb56af69f",
   "metadata": {},
   "outputs": [
    {
     "name": "stdout",
     "output_type": "stream",
     "text": [
      "---- AND gate ----\n",
      "(0,0) =  0\n",
      "(0,1) =  0\n",
      "(1,0) =  0\n",
      "(1,1) =  1\n",
      "---- NAND gate ----\n",
      "(0,0) =  1\n",
      "(0,1) =  1\n",
      "(1,0) =  1\n",
      "(1,1) =  0\n",
      "---- OR gate ----\n",
      "(0,0) =  0\n",
      "(0,1) =  1\n",
      "(1,0) =  1\n",
      "(1,1) =  1\n",
      "---- XOR gate ----\n",
      "(0,0) =  0\n",
      "(0,1) =  1\n",
      "(1,0) =  1\n",
      "(1,1) =  0\n"
     ]
    }
   ],
   "source": [
    "import numpy as np\n",
    "\n",
    "def AND(x1, x2):\n",
    "    X = np.array([x1, x2])\n",
    "    W = np.array([0.5, 0.5])\n",
    "    b = -0.6\n",
    "    sum = np.sum(X*W) + b\n",
    "    if sum <= 0:\n",
    "        return 0\n",
    "    elif sum > 0:\n",
    "        return 1\n",
    "print('---- AND gate ----')\n",
    "print('(0,0) = ', AND(0,0))\n",
    "print('(0,1) = ', AND(0,1))\n",
    "print('(1,0) = ', AND(1,0))\n",
    "print('(1,1) = ', AND(1,1))   \n",
    "\n",
    "def NAND(x1, x2):\n",
    "    X = np.array([x1, x2])\n",
    "    W = np.array([-0.5, -0.5])\n",
    "    b = 0.6\n",
    "    sum = np.sum(X*W) + b\n",
    "    if sum <= 0:\n",
    "        return 0\n",
    "    elif sum > 0:\n",
    "        return 1\n",
    "print('---- NAND gate ----')\n",
    "print('(0,0) = ', NAND(0,0))\n",
    "print('(0,1) = ', NAND(0,1))\n",
    "print('(1,0) = ', NAND(1,0))\n",
    "print('(1,1) = ', NAND(1,1)) \n",
    "\n",
    "def OR(x1, x2):\n",
    "    X = np.array([x1, x2])\n",
    "    W = np.array([0.7, 0.7])\n",
    "    b = -0.6\n",
    "    sum = np.sum(X*W) + b\n",
    "    if sum <= 0:\n",
    "        return 0\n",
    "    elif sum > 0:\n",
    "        return 1\n",
    "\n",
    "print('---- OR gate ----')\n",
    "print('(0,0) = ', OR(0,0))\n",
    "print('(0,1) = ', OR(0,1))\n",
    "print('(1,0) = ', OR(1,0))\n",
    "print('(1,1) = ', OR(1,1))  \n",
    "\n",
    "def XOR(x1, x2):\n",
    "    s1 = NAND(x1, x2)\n",
    "    s2 = OR(x1, x2)\n",
    "    y = AND(s1, s2)\n",
    "    return y\n",
    "print('---- XOR gate ----')\n",
    "print('(0,0) = ', XOR(0,0))\n",
    "print('(0,1) = ', XOR(0,1))\n",
    "print('(1,0) = ', XOR(1,0))\n",
    "print('(1,1) = ', XOR(1,1))   "
   ]
  },
  {
   "cell_type": "code",
   "execution_count": null,
   "id": "37c2f5f2-f16d-4f2f-950d-f069535e98df",
   "metadata": {},
   "outputs": [],
   "source": []
  }
 ],
 "metadata": {
  "kernelspec": {
   "display_name": "Python 3 (ipykernel)",
   "language": "python",
   "name": "python3"
  },
  "language_info": {
   "codemirror_mode": {
    "name": "ipython",
    "version": 3
   },
   "file_extension": ".py",
   "mimetype": "text/x-python",
   "name": "python",
   "nbconvert_exporter": "python",
   "pygments_lexer": "ipython3",
   "version": "3.11.7"
  }
 },
 "nbformat": 4,
 "nbformat_minor": 5
}
